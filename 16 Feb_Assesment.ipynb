{
 "cells": [
  {
   "cell_type": "markdown",
   "id": "f29ade05-ac98-44f7-9f1d-94a7c989ab81",
   "metadata": {},
   "source": [
    "# MySQL Assignment Questions & Answers"
   ]
  },
  {
   "cell_type": "markdown",
   "id": "f04342fd-24bc-4455-a7f6-979f5ed4e0c2",
   "metadata": {},
   "source": [
    "### Q1. What is a database? Differentiate between SQL and NoSQL databases."
   ]
  },
  {
   "cell_type": "raw",
   "id": "a13d92d2-1ca4-43a1-9ca3-616206896630",
   "metadata": {},
   "source": [
    "A database is information that is set up for easy access, management and updating data inside it. It's like folder or directory inside or computer. \n",
    "Databases are used for storing, maintaining and accessing any type of data. \n",
    "They collect information on people, places or things. \n",
    "That information is gathered in one place so that it can be observed and analyzed. \n",
    "Databases can be thought of as an organized collection of information.\n",
    "\n",
    "Diffrence between SQL & NoSql\n",
    "\n",
    "1. SQL databases are relational, and NoSQL databases are non-relational.\n",
    "2. SQL databases use structured query language (SQL) and have a predefined schema. NoSQL databases have dynamic schemas for unstructured data.\n",
    "3. SQL databases are vertically scalable, while NoSQL databases are horizontally scalable.\n",
    "4. SQL databases are table-based, while NoSQL databases are document, key-value, graph, or wide-column stores.\n",
    "5. SQL databases are better for multi-row transactions, while NoSQL is better for unstructured data like documents or JSON, video."
   ]
  },
  {
   "cell_type": "markdown",
   "id": "714e71e4-8b78-466f-ba1a-2a056cd03134",
   "metadata": {},
   "source": [
    "### Q2. What is DDL? Explain why CREATE, DROP, ALTER, and TRUNCATE are used with an example."
   ]
  },
  {
   "cell_type": "raw",
   "id": "358bf8ef-8906-442a-8b0c-8f8ebb5bd18b",
   "metadata": {},
   "source": [
    "DDL stands for Data Definition Language\n",
    "DDL are used to change the structure of a database and database objects.For example, DDL commands can be used to add, remove, or modify tables with in a database. \n",
    "\n",
    "The DDL commands are: \n",
    "- CREATE\n",
    "- ALTER\n",
    "- DROP\n",
    "- TRUNCATE\n",
    "- RENAME\n",
    "\n",
    "1. CREATE : This command is used to create database or table in the relational database . \n",
    "\n",
    "    CREATE DATABASE Test;\n",
    "\n",
    "    CREATE TABLE Test.test_table\n",
    "    (\n",
    "        c1 INT,\n",
    "        c2 VARCHAR(20)\n",
    "    )\n",
    "\n",
    "2. DROP : This command completely removes the table from the database along with the destruction of the table structure.\n",
    "    This will delete all the records as well as the structure of the table. \n",
    "    This is the main difference between TRUNCATE AND DROP.-TRUNCATE only removes the records whereas DROP completely destroys the table. \n",
    "\n",
    "    DROP TABLE Student; # This command will remove the Student table records as well as destroys the schema too.\n",
    "    \n",
    "3. ALTER : Alter command is used for altering the table in many forms like: \n",
    "    - Add a column\n",
    "    - Rename existing column\n",
    "    - Drop a column\n",
    "    - Modify the size of the column or change datatype of the column\n",
    "    \n",
    "    \n",
    "    Below command will add a new column “Address” in the table Student of datatype varchar(200); \n",
    "    \n",
    "    ALTER TABLE Student \n",
    "    ADD\n",
    "    (Address  VARCHAR(200)); \n",
    "    \n",
    "4. TRUNCATE : This command removes all the records from a table. But this command will not destroy the table’s structure.\n",
    "\n",
    "    TRUNCATE TABLE Student; # This will delete all the records from the Student table. "
   ]
  },
  {
   "cell_type": "markdown",
   "id": "72810152-994d-4d64-b581-3285f3ff146a",
   "metadata": {},
   "source": [
    "### Q3. What is DML? Explain INSERT, UPDATE, and DELETE with an example."
   ]
  },
  {
   "cell_type": "markdown",
   "id": "820b7498-4083-4963-9572-80f7aebfef0a",
   "metadata": {},
   "source": [
    "DML is short name of Data Manipulation Language which deals with data manipulation and includes most common SQL statements such SELECT, INSERT, UPDATE, DELETE, and it is used to store, modify, retrieve, delete and update data in a database.\n",
    "\n",
    "- SELECT - retrieve data from a database\n",
    "- INSERT - insert data into a table\n",
    "- UPDATE - updates existing data within a table\n",
    "- DELETE - Delete all records from a database table"
   ]
  },
  {
   "cell_type": "markdown",
   "id": "cc649a16-d2c0-47a8-9629-862377290d9a",
   "metadata": {},
   "source": [
    "### Q4. What is DQL? Explain SELECT with an example."
   ]
  },
  {
   "cell_type": "raw",
   "id": "90602dd7-58e5-4b09-9b36-50c7146a00d7",
   "metadata": {},
   "source": [
    "DQL statements are used for performing queries on the data within schema objects. \n",
    "The purpose of the DQL Command is to get some schema relation based on the query passed to it.\n",
    "\n",
    "It is used for retrieving data. A user can retrieve data according to his/her requirements using the select command. \n",
    "Example: \n",
    "    - If a user wants to retrieve all the from the employee table, the query will be as below: \n",
    "    \n",
    "        select *\n",
    "        from employee; \n",
    "    -If a user wants to know the name of the employee whose salary is less than 10, 000; the query is: \n",
    "   \n",
    "        select ename \n",
    "        from employee \n",
    "        where salary<=10, 000;\n",
    "        \n",
    "Use Case -\n",
    "    - Analytical Queries.\n",
    "    - Retrieve Information from the database."
   ]
  },
  {
   "cell_type": "markdown",
   "id": "6cad0fb4-2679-4a15-ab0f-ca0af0ee0de7",
   "metadata": {},
   "source": [
    "### Q5. Explain Primary Key and Foreign Key."
   ]
  },
  {
   "cell_type": "raw",
   "id": "d2a5d992-e2b4-4ba7-bdbb-33341eddc820",
   "metadata": {},
   "source": [
    "- Primary Key : Primary Key constraint uniquely identifies each record in a table.\n",
    "    Primary keys must contain UNIQUE values, and cannot contain NULL values.\n",
    "    A table can have only ONE primary key; and in the table, this primary key can consist of single or multiple columns (fields).\n",
    "    Below SQL statement creates a PRIMARY KEY on the \"ID\" column when the \"Persons\" table is created:\n",
    "    \n",
    "    CREATE TABLE Persons \n",
    "    (\n",
    "    ID int NOT NULL,\n",
    "    LastName varchar(255) NOT NULL,\n",
    "    FirstName varchar(255),\n",
    "    Age int,\n",
    "    PRIMARY KEY (ID)\n",
    "    );\n",
    "    \n",
    "- Foreign Key : Foreign Key constraint is used to prevent actions that would destroy links between tables.\n",
    "    A Foreign Key is a field (or collection of fields) in one table, that refers to the PRIMARY KEY in another table.\n",
    "    The table with the foreign key is called the child table, and the table with the primary key is called the referenced or parent table.\n",
    "    This will create creates a Foreign Key on the \"PersonID\" column when the \"Orders\" table is created:\n",
    "    \n",
    "    CREATE TABLE Orders (\n",
    "    OrderID int NOT NULL,\n",
    "    OrderNumber int NOT NULL,\n",
    "    PersonID int,\n",
    "    PRIMARY KEY (OrderID),\n",
    "    FOREIGN KEY (PersonID) REFERENCES Persons(PersonID));\n",
    "\n"
   ]
  },
  {
   "cell_type": "markdown",
   "id": "d9268056-df27-445e-934e-933e1e76d8df",
   "metadata": {},
   "source": [
    "### Q6. Write a python code to connect MySQL to python. Explain the cursor() and execute() method."
   ]
  },
  {
   "cell_type": "raw",
   "id": "9f0e8d09-8833-442d-a380-aa7362839eff",
   "metadata": {},
   "source": [
    "Below is python code to connect MySQL to python\n",
    "\n",
    "    import mysql.connector\n",
    "    mydb = mysql.connector.connect(\n",
    "      host=\"localhost\",\n",
    "      user=\"shivam\",\n",
    "      password=\"admin123\"\n",
    "    )\n",
    "    print(mydb)\n",
    "    mycursor = mydb.cursor()\n",
    "    mycursor.execute(\"SHOW DATABASES\")\n",
    "    for x in mycursor:\n",
    "      print(x)\n",
    "  \n",
    "\n",
    "\n",
    "MySQL Cursor.execute() method - This method executes the given database operation. This method accepts a MySQL query as a parameter and executes the given query.\n",
    "MySQL Cursor of mysql-connector-python is used to execute statements to communicate with the MySQL database.\n",
    "Using the methods of it you can execute SQL statements, fetch data from the result sets, call procedures.\n"
   ]
  },
  {
   "cell_type": "markdown",
   "id": "b985ea33-0ccd-4805-8914-30416e17056b",
   "metadata": {},
   "source": [
    " ### Q7. Give the order of execution of SQL clauses in an SQL query."
   ]
  },
  {
   "cell_type": "raw",
   "id": "9fb752b0-706b-45d5-92f5-5d59e1e5483c",
   "metadata": {},
   "source": [
    "Suppose we want to know the name of only two city names, except San Bruno, where two or more citizens are living on. We also want the result ordered alphabetically.\n",
    "\n",
    "query to get the information as below:\n",
    "\n",
    "    SELECT \n",
    "        city.city_name AS \"City\"\n",
    "    FROM citizen\n",
    "    JOIN city \n",
    "        ON citizen.city_id = city.city_id \n",
    "    WHERE city.city_name != 'San Bruno'\n",
    "    GROUP BY city.city_name\n",
    "    HAVING COUNT(*) >= 2\n",
    "    ORDER BY city.city_name ASC\n",
    "    LIMIT 2\n",
    "\n",
    "Query Process Steps\n",
    "1. Getting Data (From, Join)\n",
    "2. Row Filter (Where)\n",
    "3. Grouping (Group by)\n",
    "4. Group Filter (Having)\n",
    "5. Return Expressions (Select)\n",
    "6. Order & Paging (Order by & Limit / Offset)\n"
   ]
  },
  {
   "cell_type": "raw",
   "id": "d832550f-eca2-42ff-959d-4793c2bc1408",
   "metadata": {},
   "source": [
    "**** My reference pages ****\n",
    "\n",
    "    - https://towardsdatascience.com/the-6-steps-of-a-sql-select-statement-process-b3696a49a642\n",
    "    - https://www.geeksforgeeks.org/ddl-full-form/?ref=rp\n",
    "    - https://www.w3schools.com/mysql/default.asp"
   ]
  },
  {
   "cell_type": "raw",
   "id": "3277c66f-0d6c-4be5-8984-f14c93d003b0",
   "metadata": {},
   "source": []
  },
  {
   "cell_type": "code",
   "execution_count": null,
   "id": "855a430c-d3fe-4ce1-aa7e-4e12243fe025",
   "metadata": {},
   "outputs": [],
   "source": []
  }
 ],
 "metadata": {
  "kernelspec": {
   "display_name": "Python 3",
   "language": "python",
   "name": "python3"
  },
  "language_info": {
   "codemirror_mode": {
    "name": "ipython",
    "version": 3
   },
   "file_extension": ".py",
   "mimetype": "text/x-python",
   "name": "python",
   "nbconvert_exporter": "python",
   "pygments_lexer": "ipython3",
   "version": "3.10.4"
  },
  "vscode": {
   "interpreter": {
    "hash": "aee8b7b246df8f9039afb4144a1f6fd8d2ca17a180786b69acc140d282b71a49"
   }
  }
 },
 "nbformat": 4,
 "nbformat_minor": 5
}
